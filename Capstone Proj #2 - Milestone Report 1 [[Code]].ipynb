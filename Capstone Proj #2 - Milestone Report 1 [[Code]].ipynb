{
 "cells": [
  {
   "cell_type": "code",
   "execution_count": 1,
   "metadata": {},
   "outputs": [],
   "source": [
    "# Install the plaidml backend\n",
    "import plaidml.keras\n",
    "plaidml.keras.install_backend()"
   ]
  },
  {
   "cell_type": "code",
   "execution_count": 2,
   "metadata": {},
   "outputs": [],
   "source": [
    "from PIL import Image\n",
    "import os\n",
    "\n",
    "# import cv2\n",
    "import numpy as np\n",
    "\n",
    "import matplotlib.pyplot as plt\n",
    "import random\n",
    "import numpy"
   ]
  },
  {
   "cell_type": "code",
   "execution_count": 3,
   "metadata": {},
   "outputs": [],
   "source": [
    "def DatasetPrep(dir_dataset):\n",
    "    x = []\n",
    "    y = []\n",
    "    size = 75, 75\n",
    "\n",
    "    for category in keys:\n",
    "        dir_root = dir_dataset\n",
    "        photo_path = os.listdir(dir_root + category)\n",
    "        for photo in photo_path:\n",
    "            img = Image.open(dir_root + category + '/' + photo)\n",
    "            img.thumbnail(size, Image.ANTIALIAS)\n",
    "            img = numpy.array(img)\n",
    "            \n",
    "            x.append(img)\n",
    "            y.append(categories[category])\n",
    "\n",
    "    # Keep copy of original datasets\n",
    "    orig_x = x\n",
    "    orig_y = y\n",
    "            \n",
    "    # check for any pictures that are not shape (150, 150)\n",
    "    off_images = []\n",
    "    \n",
    "    # get indices of all the images that are not (150, 150)\n",
    "    for i in range(0,len(x)):\n",
    "        if x[i].shape == (75, 75, 3):\n",
    "            pass\n",
    "        else:\n",
    "            off_images.append(i)\n",
    "\n",
    "    temporary_x = np.delete(x, off_images)\n",
    "    temporary_y = np.delete(y, off_images)\n",
    "    \n",
    "#     off_images = []\n",
    "\n",
    "#     for i in range(0,len(temporary_x)):\n",
    "#         if temporary_x[i].shape == (75,75, 3):\n",
    "#             pass\n",
    "#         else:\n",
    "#             off_images.append(i)\n",
    "\n",
    "    x = temporary_x\n",
    "    y = temporary_y\n",
    "\n",
    "    temp_x = np.array([temp.tolist() for temp in np.array(x)])\n",
    "    temp_y = np.array(y)\n",
    "\n",
    "    x = temp_x\n",
    "    x = np.reshape(x, (x.shape[0], x[0].shape[0], x[0].shape[1], 3))\n",
    "    \n",
    "    y = temp_y\n",
    "    \n",
    "    return (x, y, orig_x, orig_y, off_images)"
   ]
  },
  {
   "cell_type": "code",
   "execution_count": 37,
   "metadata": {},
   "outputs": [],
   "source": [
    "def DatasetPrepPrediction(dir_dataset):\n",
    "    x = []\n",
    "    size = 75, 75\n",
    "\n",
    "    dir_root = dir_dataset\n",
    "    photo_path = os.listdir(dir_root)\n",
    "    for photo in photo_path:\n",
    "        img = Image.open(dir_root + '/' + photo)\n",
    "        img.thumbnail(size, Image.ANTIALIAS)\n",
    "        img = numpy.array(img)\n",
    "\n",
    "        x.append(img)\n",
    "\n",
    "    # Keep copy of original datasets\n",
    "    orig_x = x\n",
    "            \n",
    "    # check for any pictures that are not shape (150, 150)\n",
    "    off_images = []\n",
    "    \n",
    "    # get indices of all the images that are not (150, 150)\n",
    "    for i in range(0,len(x)):\n",
    "        if x[i].shape == (75, 75, 3):\n",
    "            pass\n",
    "        else:\n",
    "            off_images.append(i)\n",
    "\n",
    "    temporary_x = np.delete(x, off_images)\n",
    "    \n",
    "#     off_images = []\n",
    "\n",
    "#     for i in range(0,len(temporary_x)):\n",
    "#         if temporary_x[i].shape == (75,75, 3):\n",
    "#             pass\n",
    "#         else:\n",
    "#             off_images.append(i)\n",
    "\n",
    "    x = temporary_x\n",
    "\n",
    "    temp_x = np.array([temp.tolist() for temp in np.array(x)])\n",
    "\n",
    "    x = temp_x\n",
    "    x = np.reshape(x, (x.shape[0], x[0].shape[0], x[0].shape[1], 3))\n",
    "    \n",
    "    return (x, orig_x, off_images)"
   ]
  },
  {
   "cell_type": "code",
   "execution_count": 38,
   "metadata": {},
   "outputs": [],
   "source": [
    "keys = ['buildings', 'forest', 'glacier', 'mountain', 'sea', 'street']"
   ]
  },
  {
   "cell_type": "code",
   "execution_count": 39,
   "metadata": {},
   "outputs": [],
   "source": [
    "values = [1, 2, 3, 4, 5, 6]"
   ]
  },
  {
   "cell_type": "code",
   "execution_count": 40,
   "metadata": {},
   "outputs": [],
   "source": [
    "categories = dict(zip(keys,values))\n",
    "value_pair = dict(zip(values, keys))"
   ]
  },
  {
   "cell_type": "code",
   "execution_count": 41,
   "metadata": {},
   "outputs": [],
   "source": [
    "dir_train = 'seg_train/'\n",
    "dir_test = 'seg_test/'"
   ]
  },
  {
   "cell_type": "markdown",
   "metadata": {},
   "source": [
    "# Importing the Data"
   ]
  },
  {
   "cell_type": "code",
   "execution_count": 42,
   "metadata": {},
   "outputs": [],
   "source": [
    "x_train, y_train, orig_x_train, orig_y_train, off_images_train = DatasetPrep(dir_train)\n",
    "x_test, y_test, orig_x_test, orig_y_test, off_images_test = DatasetPrep(dir_test)"
   ]
  },
  {
   "cell_type": "code",
   "execution_count": 43,
   "metadata": {},
   "outputs": [
    {
     "name": "stdout",
     "output_type": "stream",
     "text": [
      "(13986, 75, 75, 3) (13986,)\n",
      "(2993, 75, 75, 3) (2993,)\n"
     ]
    }
   ],
   "source": [
    "print(x_train.shape, y_train.shape)\n",
    "print(x_test.shape, y_test.shape)"
   ]
  },
  {
   "cell_type": "code",
   "execution_count": 94,
   "metadata": {},
   "outputs": [
    {
     "data": {
      "image/png": "[encoded data removed]",
      "text/plain": [
       "<Figure size 1080x720 with 1 Axes>"
      ]
     },
     "metadata": {
      "needs_background": "light"
     },
     "output_type": "display_data"
    }
   ],
   "source": [
    "import pandas as pd\n",
    "# list(pd.Series(y_train).value_counts().sort_index().index)\n",
    "image_count = list(pd.Series(y_train).value_counts().sort_index().values)\n",
    "dict(zip(keys,image_count))\n",
    "\n",
    "plt.figure(figsize = (15,10))\n",
    "plt.bar(keys, image_count)\n",
    "plt.title('Number of Images Per Category', fontsize=30)\n",
    "plt.xlabel('Category', fontsize=20)\n",
    "plt.ylabel('Number of Images', fontsize=20)\n",
    "plt.xticks(fontsize = 15)\n",
    "plt.yticks(fontsize = 15)\n",
    "plt.show()"
   ]
  },
  {
   "cell_type": "markdown",
   "metadata": {},
   "source": [
    "# Analysis of original datasets"
   ]
  },
  {
   "cell_type": "code",
   "execution_count": 10,
   "metadata": {},
   "outputs": [
    {
     "data": {
      "text/plain": [
       "(14034, 14034)"
      ]
     },
     "execution_count": 10,
     "metadata": {},
     "output_type": "execute_result"
    }
   ],
   "source": [
    "len(orig_x_train), len(orig_y_train)"
   ]
  },
  {
   "cell_type": "code",
   "execution_count": 11,
   "metadata": {},
   "outputs": [
    {
     "data": {
      "text/plain": [
       "(3000, 3000)"
      ]
     },
     "execution_count": 11,
     "metadata": {},
     "output_type": "execute_result"
    }
   ],
   "source": [
    "len(orig_x_test), len(orig_y_test)"
   ]
  },
  {
   "cell_type": "code",
   "execution_count": 12,
   "metadata": {},
   "outputs": [
    {
     "data": {
      "text/plain": [
       "(14034, 14034, 48)"
      ]
     },
     "execution_count": 12,
     "metadata": {},
     "output_type": "execute_result"
    }
   ],
   "source": [
    "len(orig_x_train), len(orig_y_train), len(off_images_train)"
   ]
  },
  {
   "cell_type": "code",
   "execution_count": 13,
   "metadata": {},
   "outputs": [
    {
     "data": {
      "text/plain": [
       "(3000, 3000, 7)"
      ]
     },
     "execution_count": 13,
     "metadata": {},
     "output_type": "execute_result"
    }
   ],
   "source": [
    "len(orig_x_test), len(orig_y_test), len(off_images_test)"
   ]
  },
  {
   "cell_type": "markdown",
   "metadata": {},
   "source": [
    "# Analysis of Unlabeled Datasets"
   ]
  },
  {
   "cell_type": "code",
   "execution_count": 9,
   "metadata": {},
   "outputs": [],
   "source": [
    "dir_unlabeled = 'seg_pred/'\n",
    "x_pred, orig_x_pred, off_images_pred = DatasetPrepPrediction(dir_unlabeled)"
   ]
  },
  {
   "cell_type": "code",
   "execution_count": 11,
   "metadata": {},
   "outputs": [
    {
     "data": {
      "text/plain": [
       "(7301, 13)"
      ]
     },
     "execution_count": 11,
     "metadata": {},
     "output_type": "execute_result"
    }
   ],
   "source": [
    "len(orig_x_pred), len(off_images_pred)"
   ]
  },
  {
   "cell_type": "code",
   "execution_count": 12,
   "metadata": {},
   "outputs": [
    {
     "name": "stdout",
     "output_type": "stream",
     "text": [
      "(7288, 75, 75, 3)\n"
     ]
    }
   ],
   "source": [
    "print(x_pred.shape)"
   ]
  },
  {
   "cell_type": "markdown",
   "metadata": {},
   "source": [
    "# Transforming data to proper format to input into model"
   ]
  },
  {
   "cell_type": "code",
   "execution_count": 25,
   "metadata": {},
   "outputs": [],
   "source": [
    "import keras\n",
    "import numpy as np\n",
    "from keras.datasets import mnist\n",
    "from keras.models import Sequential\n",
    "from keras.layers import Dense, Dropout, Flatten, Conv2D, MaxPooling2D"
   ]
  },
  {
   "cell_type": "code",
   "execution_count": 26,
   "metadata": {},
   "outputs": [],
   "source": [
    "num_classes = len(values)+1\n",
    "y_train = keras.utils.to_categorical(y_train, num_classes=num_classes)\n",
    "\n",
    "num_classes_test = len(np.unique(y_test))+1\n",
    "y_test = keras.utils.to_categorical(y_test, num_classes=num_classes_test)"
   ]
  },
  {
   "cell_type": "code",
   "execution_count": 27,
   "metadata": {},
   "outputs": [],
   "source": [
    "img_rows = x_train[0].shape[0]\n",
    "img_cols = x_train[0].shape[1]\n",
    "INPUT_SHAPE = (img_rows, img_cols,3)"
   ]
  }
 ],
 "metadata": {
  "kernelspec": {
   "display_name": "Python 3",
   "language": "python",
   "name": "python3"
  },
  "language_info": {
   "codemirror_mode": {
    "name": "ipython",
    "version": 3
   },
   "file_extension": ".py",
   "mimetype": "text/x-python",
   "name": "python",
   "nbconvert_exporter": "python",
   "pygments_lexer": "ipython3",
   "version": "3.7.4"
  }
 },
 "nbformat": 4,
 "nbformat_minor": 4
}
